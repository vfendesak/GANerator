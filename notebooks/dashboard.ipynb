{
 "cells": [
  {
   "cell_type": "code",
   "execution_count": 9,
   "metadata": {},
   "outputs": [],
   "source": [
    "import pandas as pd\n",
    "import numpy as np\n",
    "from itertools import product"
   ]
  },
  {
   "cell_type": "code",
   "execution_count": 10,
   "metadata": {},
   "outputs": [],
   "source": [
    "df = pd.read_csv(\"../data/train_data.csv\")"
   ]
  },
  {
   "cell_type": "code",
   "execution_count": 11,
   "metadata": {},
   "outputs": [],
   "source": [
    "def is_binary(column_data):\n",
    "    return np.issubdtype(column_data.dtype, np.integer) and column_data.isin([0, 1]).all()\n",
    "\n",
    "def is_numerical(column_data):\n",
    "    return np.issubdtype(column_data.dtype, np.number)\n",
    "\n",
    "def is_categorical(column_data):\n",
    "    return isinstance(column_data.dtype, pd.CategoricalDtype) or len(column_data.unique()) <= 0.5 * len(column_data)\n",
    "\n",
    "def classify_data_types(df):\n",
    "    data_types = {}\n",
    "\n",
    "    for col in df.columns:\n",
    "        column_data = df[col]\n",
    "        \n",
    "        if is_binary(column_data):\n",
    "            data_types[col] = 'binary'\n",
    "        elif is_numerical(column_data):\n",
    "            data_types[col] = 'numerical'\n",
    "        elif column_data.dtype == 'object':\n",
    "            if is_categorical(column_data):\n",
    "                data_types[col] = 'categorical'\n",
    "            else:\n",
    "                data_types[col] = 'text'\n",
    "        else:\n",
    "            data_types[col] = 'other'\n",
    "    \n",
    "    return data_types"
   ]
  },
  {
   "cell_type": "code",
   "execution_count": 12,
   "metadata": {},
   "outputs": [
    {
     "data": {
      "text/plain": [
       "{'SK_ID_CURR': 'numerical',\n",
       " 'NAME_CONTRACT_TYPE': 'categorical',\n",
       " 'CODE_GENDER': 'categorical',\n",
       " 'FLAG_OWN_CAR': 'categorical',\n",
       " 'FLAG_OWN_REALTY': 'categorical',\n",
       " 'CNT_CHILDREN': 'numerical',\n",
       " 'AMT_INCOME_TOTAL': 'numerical',\n",
       " 'AMT_CREDIT': 'numerical',\n",
       " 'TARGET': 'binary'}"
      ]
     },
     "execution_count": 12,
     "metadata": {},
     "output_type": "execute_result"
    }
   ],
   "source": [
    "classify_data_types(df)"
   ]
  }
 ],
 "metadata": {
  "kernelspec": {
   "display_name": "ganerator-dev",
   "language": "python",
   "name": "ganerator-dev"
  },
  "language_info": {
   "codemirror_mode": {
    "name": "ipython",
    "version": 3
   },
   "file_extension": ".py",
   "mimetype": "text/x-python",
   "name": "python",
   "nbconvert_exporter": "python",
   "pygments_lexer": "ipython3",
   "version": "3.11.7"
  }
 },
 "nbformat": 4,
 "nbformat_minor": 2
}
