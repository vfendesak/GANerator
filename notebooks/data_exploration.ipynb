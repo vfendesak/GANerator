{
 "cells": [
  {
   "cell_type": "code",
   "execution_count": 1,
   "metadata": {},
   "outputs": [],
   "source": [
    "import polars as pl\n",
    "from pathlib import Path"
   ]
  },
  {
   "cell_type": "code",
   "execution_count": 2,
   "metadata": {},
   "outputs": [],
   "source": [
    "DATA_PATH = Path().cwd().parent / \"data\"\n",
    "COLS = [\n",
    "    \"NAME_CONTRACT_TYPE\",\n",
    "    \"CODE_GENDER\",\n",
    "    \"FLAG_OWN_CAR\",\n",
    "    \"FLAG_OWN_REALTY\",\n",
    "    \"CNT_CHILDREN\",\n",
    "    \"AMT_INCOME_TOTAL\",\n",
    "    \"AMT_CREDIT\",\n",
    "]\n",
    "\n",
    "\n",
    "def load_data(file):\n",
    "    return (\n",
    "        pl.read_csv(DATA_PATH / f\"application_{file}.csv\")\n",
    "        .to_pandas()\n",
    "        .set_index(\"SK_ID_CURR\")\n",
    "    )"
   ]
  },
  {
   "cell_type": "code",
   "execution_count": 4,
   "metadata": {},
   "outputs": [],
   "source": [
    "application_train = load_data(\"train\")[COLS + [\"TARGET\"]]\n",
    "application_test = load_data(\"test\")[COLS]"
   ]
  },
  {
   "cell_type": "code",
   "execution_count": 12,
   "metadata": {},
   "outputs": [],
   "source": [
    "application_train.head().to_clipboard()"
   ]
  },
  {
   "cell_type": "code",
   "execution_count": null,
   "metadata": {},
   "outputs": [],
   "source": []
  }
 ],
 "metadata": {
  "kernelspec": {
   "display_name": "ganerator-dev",
   "language": "python",
   "name": "ganerator-dev"
  },
  "language_info": {
   "codemirror_mode": {
    "name": "ipython",
    "version": 3
   },
   "file_extension": ".py",
   "mimetype": "text/x-python",
   "name": "python",
   "nbconvert_exporter": "python",
   "pygments_lexer": "ipython3",
   "version": "3.12.1"
  }
 },
 "nbformat": 4,
 "nbformat_minor": 2
}
