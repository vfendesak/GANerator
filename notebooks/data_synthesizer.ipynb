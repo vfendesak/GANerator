{
 "cells": [
  {
   "cell_type": "code",
   "execution_count": null,
   "metadata": {},
   "outputs": [],
   "source": [
    "%load_ext autoreload\n",
    "%autoreload 2"
   ]
  },
  {
   "cell_type": "code",
   "execution_count": null,
   "metadata": {},
   "outputs": [],
   "source": [
    "from ganerator.data_loader import Loader\n",
    "from ganerator.synthesizer import GANDataSynthesizer\n",
    "from sklearn.preprocessing import MinMaxScaler\n",
    "\n",
    "import pandas as pd\n",
    "\n",
    "CATEGORIAL_COLUMNS = [\"NAME_CONTRACT_TYPE\", \"CODE_GENDER\", \"FLAG_OWN_CAR\", \"FLAG_OWN_REALTY\"]"
   ]
  },
  {
   "cell_type": "code",
   "execution_count": null,
   "metadata": {},
   "outputs": [],
   "source": [
    "def encode_data(df):\n",
    "    return pd.get_dummies(df, columns=CATEGORIAL_COLUMNS)"
   ]
  },
  {
   "cell_type": "code",
   "execution_count": null,
   "metadata": {},
   "outputs": [],
   "source": [
    "loader = Loader()\n",
    "\n",
    "test_data = loader.load_data(\"test\")\n",
    "\n",
    "encoded_test_data = encode_data(test_data)\n",
    "scaler = MinMaxScaler()\n",
    "scaled_data = scaler.fit_transform(encoded_test_data.values)"
   ]
  },
  {
   "cell_type": "code",
   "execution_count": null,
   "metadata": {},
   "outputs": [],
   "source": [
    "gan_synthesizer = GANDataSynthesizer(input_dim=scaled_data.shape[1], output_dim=scaled_data.shape[1], latent_dim=50, hidden_dim=128, num_epochs=5, batch_size=64, lr=0.0002)\n",
    "gan_synthesizer.train(scaled_data)"
   ]
  },
  {
   "cell_type": "code",
   "execution_count": null,
   "metadata": {},
   "outputs": [],
   "source": [
    "new_data = gan_synthesizer.generate_samples(1000)\n",
    "new_data = scaler.inverse_transform(new_data)\n",
    "new_df = pd.DataFrame(new_data, columns=encoded_test_data.columns)"
   ]
  },
  {
   "cell_type": "code",
   "execution_count": null,
   "metadata": {},
   "outputs": [],
   "source": [
    "new_df.head()"
   ]
  },
  {
   "cell_type": "code",
   "execution_count": null,
   "metadata": {},
   "outputs": [],
   "source": [
    "def decode_new_df(new_df, original_df):\n",
    "    # Map values in encoded columns to categorical variables\n",
    "    new_df['NAME_CONTRACT_TYPE'] = new_df['NAME_CONTRACT_TYPE_Cash loans'].apply(lambda x: 'Cash loans' if x > 0 else 'Revolving loans')\n",
    "    new_df['CODE_GENDER'] = new_df['CODE_GENDER_F'].apply(lambda x: 'F' if x > 0 else 'M')\n",
    "    new_df['FLAG_OWN_CAR'] = new_df['FLAG_OWN_CAR_Y'].apply(lambda x: 'Y' if x > 0 else 'N')\n",
    "    new_df['FLAG_OWN_REALTY'] = new_df['FLAG_OWN_REALTY_Y'].apply(lambda x: 'Y' if x > 0 else 'N')\n",
    "\n",
    "    # Drop encoded columns\n",
    "    new_df.drop(columns=['NAME_CONTRACT_TYPE_Cash loans', 'NAME_CONTRACT_TYPE_Revolving loans',\n",
    "                         'CODE_GENDER_F', 'CODE_GENDER_M',\n",
    "                         'FLAG_OWN_CAR_N', 'FLAG_OWN_CAR_Y',\n",
    "                         'FLAG_OWN_REALTY_N', 'FLAG_OWN_REALTY_Y'], inplace=True)\n",
    "\n",
    "    # Reorder columns to match the original dataframe's order\n",
    "    new_df = new_df[original_df.columns]\n",
    "\n",
    "    return new_df"
   ]
  },
  {
   "cell_type": "code",
   "execution_count": null,
   "metadata": {},
   "outputs": [],
   "source": [
    "decoded_new = decode_new_df(new_df, test_data)"
   ]
  },
  {
   "cell_type": "code",
   "execution_count": null,
   "metadata": {},
   "outputs": [],
   "source": [
    "decoded_new[\"CNT_CHILDREN\"].unique()"
   ]
  }
 ],
 "metadata": {
  "kernelspec": {
   "display_name": "ganerator-dev",
   "language": "python",
   "name": "ganerator-dev"
  },
  "language_info": {
   "codemirror_mode": {
    "name": "ipython",
    "version": 3
   },
   "file_extension": ".py",
   "mimetype": "text/x-python",
   "name": "python",
   "nbconvert_exporter": "python",
   "pygments_lexer": "ipython3",
   "version": "3.11.7"
  }
 },
 "nbformat": 4,
 "nbformat_minor": 2
}
