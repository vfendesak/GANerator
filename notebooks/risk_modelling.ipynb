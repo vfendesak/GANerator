{
 "cells": [
  {
   "cell_type": "code",
   "execution_count": null,
   "metadata": {},
   "outputs": [],
   "source": [
    "%load_ext autoreload\n",
    "%autoreload 2"
   ]
  },
  {
   "cell_type": "code",
   "execution_count": null,
   "metadata": {},
   "outputs": [],
   "source": [
    "from ganerator.data_loader import Loader\n",
    "from ganerator.model import RiskModel\n",
    "\n",
    "\n",
    "CATEGORIAL_COLUMNS = [\"NAME_CONTRACT_TYPE\", \"CODE_GENDER\", \"FLAG_OWN_CAR\", \"FLAG_OWN_REALTY\"]\n",
    "TARGET_COL = \"TARGET\" # 1: payment difficulties; 0: no payment difficulties"
   ]
  },
  {
   "cell_type": "code",
   "execution_count": null,
   "metadata": {},
   "outputs": [],
   "source": [
    "loader = Loader()\n",
    "\n",
    "train_data = loader.load_data(\"train\")\n",
    "test_data = loader.load_data(\"test\")"
   ]
  },
  {
   "cell_type": "code",
   "execution_count": null,
   "metadata": {},
   "outputs": [],
   "source": [
    "random_forest_model = RiskModel(\n",
    "    data=train_data, \n",
    "    target_column=TARGET_COL, \n",
    "    categorical_columns=CATEGORIAL_COLUMNS, \n",
    "    model_type=\"random_forest\"\n",
    ")\n",
    "random_forest_model.train_model()\n",
    "random_forest_model.evaluate_model()"
   ]
  },
  {
   "cell_type": "code",
   "execution_count": null,
   "metadata": {},
   "outputs": [],
   "source": [
    "logistic_model = RiskModel(\n",
    "    data=train_data, \n",
    "    target_column=TARGET_COL, \n",
    "    categorical_columns=CATEGORIAL_COLUMNS, \n",
    "    model_type=\"logistic\"\n",
    ")\n",
    "logistic_model.train_model()\n",
    "logistic_model.evaluate_model()"
   ]
  },
  {
   "cell_type": "code",
   "execution_count": null,
   "metadata": {},
   "outputs": [],
   "source": [
    "app_test = test_data.copy()\n",
    "app_test[\"TARGET_pred_logistic\"] = logistic_model.predict(test_data)\n",
    "app_test[\"TARGET_pred_random_forest\"] = random_forest_model.predict(test_data)"
   ]
  },
  {
   "cell_type": "code",
   "execution_count": null,
   "metadata": {},
   "outputs": [],
   "source": [
    "logistic_model.X_train"
   ]
  }
 ],
 "metadata": {
  "kernelspec": {
   "display_name": "ganerator-dev",
   "language": "python",
   "name": "ganerator-dev"
  },
  "language_info": {
   "codemirror_mode": {
    "name": "ipython",
    "version": 3
   },
   "file_extension": ".py",
   "mimetype": "text/x-python",
   "name": "python",
   "nbconvert_exporter": "python",
   "pygments_lexer": "ipython3",
   "version": "3.11.7"
  }
 },
 "nbformat": 4,
 "nbformat_minor": 2
}
